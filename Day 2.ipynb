{
 "cells": [
  {
   "cell_type": "code",
   "execution_count": 1,
   "metadata": {},
   "outputs": [
    {
     "name": "stdout",
     "output_type": "stream",
     "text": [
      "Charmi Gotecha\n"
     ]
    }
   ],
   "source": [
    "#to print our name \n",
    "print(\"Charmi Gotecha\")"
   ]
  },
  {
   "cell_type": "code",
   "execution_count": 4,
   "metadata": {},
   "outputs": [
    {
     "name": "stdout",
     "output_type": "stream",
     "text": [
      "o-----\n",
      " ||||\n",
      "**********\n"
     ]
    }
   ],
   "source": [
    "#to draw a dog\n",
    "print('o-----')\n",
    "print(' ||||')\n",
    "print('*' * 10) \n",
    "# above figure is called an expression which is a piece of code that produces a value"
   ]
  },
  {
   "cell_type": "code",
   "execution_count": 10,
   "metadata": {},
   "outputs": [
    {
     "name": "stdout",
     "output_type": "stream",
     "text": [
      "10\n"
     ]
    }
   ],
   "source": [
    "# learn about variables\n",
    "price= 10\n",
    "rating = 4.9\n",
    "name= ('Charmi')\n",
    "is_published = True\n",
    "print(price)\n"
   ]
  },
  {
   "cell_type": "code",
   "execution_count": 14,
   "metadata": {},
   "outputs": [],
   "source": [
    "#how to print messages on a terminal window\n",
    "Full_Name= 'John Smith'\n",
    "Age= 20\n",
    "is_new = True"
   ]
  },
  {
   "cell_type": "code",
   "execution_count": 15,
   "metadata": {},
   "outputs": [
    {
     "name": "stdout",
     "output_type": "stream",
     "text": [
      "What Is Your Name? charmi\n",
      "Hi charmi\n"
     ]
    }
   ],
   "source": [
    "#how to receive from a user\n",
    "name = input('What Is Your Name? ')\n",
    "print('Hi ' + name)"
   ]
  },
  {
   "cell_type": "code",
   "execution_count": 18,
   "metadata": {},
   "outputs": [
    {
     "name": "stdout",
     "output_type": "stream",
     "text": [
      "What Is Your Name? charmi\n",
      "which is your favourite color? blue\n",
      "charmi likes blue\n"
     ]
    }
   ],
   "source": [
    "name = input('What Is Your Name? ')\n",
    "color= input('which is your favourite color? ')\n",
    "print(name +' likes ' + color )"
   ]
  },
  {
   "cell_type": "code",
   "execution_count": 1,
   "metadata": {},
   "outputs": [
    {
     "name": "stdout",
     "output_type": "stream",
     "text": [
      "Birth Year: 1975\n",
      "<class 'str'>\n",
      "<class 'int'>\n",
      "46\n"
     ]
    }
   ],
   "source": [
    "# type conversion\n",
    "birth_year = input('Birth Year: ')\n",
    "print(type(birth_year))\n",
    "age = 2021 - int(birth_year)\n",
    "print(type(age))\n",
    "print(age)"
   ]
  },
  {
   "cell_type": "code",
   "execution_count": 29,
   "metadata": {},
   "outputs": [
    {
     "name": "stdout",
     "output_type": "stream",
     "text": [
      "weight(lbs): 65\n",
      "94.25\n"
     ]
    }
   ],
   "source": [
    "weight_lbs = input('weight(lbs): ')\n",
    "weight_kg = int(weight_lbs) * 1.45\n",
    "print(weight_kg)"
   ]
  },
  {
   "cell_type": "code",
   "execution_count": null,
   "metadata": {},
   "outputs": [],
   "source": [
    "#strings\n"
   ]
  },
  {
   "cell_type": "code",
   "execution_count": 10,
   "metadata": {},
   "outputs": [
    {
     "name": "stdout",
     "output_type": "stream",
     "text": [
      "your weight on earth (kgs): 84\n",
      "your weight on moon is  14  kg\n",
      "enjoy your food & go on moon or honeymoon \n"
     ]
    }
   ],
   "source": [
    "weight_kgs = input('your weight on earth (kgs): ')\n",
    "weight_onmoon = int(weight_kgs) / 6\n",
    "print(\"your weight on moon is \", int(weight_onmoon),\" kg\") \n",
    "print(\"enjoy your food & go on moon or honeymoon \") "
   ]
  },
  {
   "cell_type": "code",
   "execution_count": null,
   "metadata": {},
   "outputs": [],
   "source": []
  }
 ],
 "metadata": {
  "kernelspec": {
   "display_name": "Python 3",
   "language": "python",
   "name": "python3"
  },
  "language_info": {
   "codemirror_mode": {
    "name": "ipython",
    "version": 3
   },
   "file_extension": ".py",
   "mimetype": "text/x-python",
   "name": "python",
   "nbconvert_exporter": "python",
   "pygments_lexer": "ipython3",
   "version": "3.7.4"
  }
 },
 "nbformat": 4,
 "nbformat_minor": 2
}
