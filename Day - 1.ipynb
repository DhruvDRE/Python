{
 "cells": [
  {
   "cell_type": "code",
   "execution_count": 2,
   "metadata": {},
   "outputs": [
    {
     "name": "stdout",
     "output_type": "stream",
     "text": [
      "Addition Of Two Numbers Is: 3\n"
     ]
    }
   ],
   "source": [
    "# Addition Of Two Numbers Using Variable \n",
    "a=1\n",
    "b=2\n",
    "c=a+b\n",
    "print(\"Addition Of Two Numbers Is:\",c)"
   ]
  },
  {
   "cell_type": "code",
   "execution_count": 4,
   "metadata": {},
   "outputs": [
    {
     "name": "stdout",
     "output_type": "stream",
     "text": [
      "Enter The First Number: 1\n",
      "Enter The Second Number: 2\n",
      "Addition Of Two Numbers by Users Is: 3\n"
     ]
    }
   ],
   "source": [
    "# Addition Of Two Numbers User Defined\n",
    "a=int(input(\"Enter The First Number: \"))\n",
    "b=int(input(\"Enter The Second Number: \"))\n",
    "c=a+b\n",
    "print(\"Addition Of Two Numbers by Users Is:\",c)"
   ]
  },
  {
   "cell_type": "markdown",
   "metadata": {},
   "source": [
    "# Notes:\n",
    "This Is how we learned how to add two numbers using different methods"
   ]
  },
  {
   "cell_type": "code",
   "execution_count": null,
   "metadata": {},
   "outputs": [],
   "source": []
  }
 ],
 "metadata": {
  "kernelspec": {
   "display_name": "Python 3",
   "language": "python",
   "name": "python3"
  },
  "language_info": {
   "codemirror_mode": {
    "name": "ipython",
    "version": 3
   },
   "file_extension": ".py",
   "mimetype": "text/x-python",
   "name": "python",
   "nbconvert_exporter": "python",
   "pygments_lexer": "ipython3",
   "version": "3.7.4"
  }
 },
 "nbformat": 4,
 "nbformat_minor": 2
}
