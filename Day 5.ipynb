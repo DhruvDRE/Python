{
 "cells": [
  {
   "cell_type": "code",
   "execution_count": 4,
   "metadata": {},
   "outputs": [
    {
     "name": "stdout",
     "output_type": "stream",
     "text": [
      "It's a cold day\n",
      "wear warm clothes\n",
      "Enjoy your day\n"
     ]
    }
   ],
   "source": [
    "#if statements\n",
    "#it is based on boolean value such as if its cold day it's a cold day\n",
    "is_hot = False\n",
    "\n",
    "if is_hot:\n",
    "    print(\"It's a hot day\")\n",
    "    print(\"Drink plenty of water\")\n",
    "else:\n",
    "    print(\"It's a cold day\")\n",
    "    print('wear warm clothes')\n",
    "print(\"Enjoy your day\")"
   ]
  },
  {
   "cell_type": "code",
   "execution_count": 7,
   "metadata": {},
   "outputs": [
    {
     "name": "stdout",
     "output_type": "stream",
     "text": [
      "It's a lovely day\n",
      "Enjoy your day\n"
     ]
    }
   ],
   "source": [
    "is_hot = False\n",
    "is_cold = False\n",
    "\n",
    "if is_hot:\n",
    "    print(\"It's a hot day\")\n",
    "    print(\"Drink plenty of water\")\n",
    "elif is_cold:\n",
    "    print(\"It's a cold day\")\n",
    "    print(\"Wear warm clothes\")\n",
    "else:\n",
    "    print(\"It's a lovely day\")\n",
    "\n",
    "print(\"Enjoy your day\")"
   ]
  },
  {
   "cell_type": "code",
   "execution_count": 24,
   "metadata": {},
   "outputs": [
    {
     "name": "stdout",
     "output_type": "stream",
     "text": [
      "Down payment is: $100000.0\n"
     ]
    }
   ],
   "source": [
    "#variable price \n",
    "price = 1000000\n",
    "has_good_credit = True\n",
    "\n",
    "if has_good_credit:\n",
    "    down_payment = 0.1 * price\n",
    "else:\n",
    "    down_payment = 0.2 * price\n",
    "print(f\"Down payment is: ${down_payment}\")"
   ]
  },
  {
   "cell_type": "code",
   "execution_count": 29,
   "metadata": {},
   "outputs": [
    {
     "name": "stdout",
     "output_type": "stream",
     "text": [
      "Eligible for loan\n"
     ]
    }
   ],
   "source": [
    "#logical operators we use this program when we have multiple conditions and, or condition\n",
    "#logical and operator both conditions should be true, and in logical or operator at least one \n",
    "#condition should be true\n",
    "has_high_income = True\n",
    "has_good_credit = False\n",
    "\n",
    "if has_high_income or has_good_credit:\n",
    "    print(\"Eligible for loan\")"
   ]
  },
  {
   "cell_type": "code",
   "execution_count": 32,
   "metadata": {},
   "outputs": [
    {
     "name": "stdout",
     "output_type": "stream",
     "text": [
      "Eligible for loan\n"
     ]
    }
   ],
   "source": [
    "#not condition\n",
    "has_good_credit = True\n",
    "has_criminal_record = False\n",
    "if has_good_credit and not has_criminal_record:\n",
    "     print(\"Eligible for loan\")"
   ]
  },
  {
   "cell_type": "code",
   "execution_count": null,
   "metadata": {},
   "outputs": [],
   "source": []
  }
 ],
 "metadata": {
  "kernelspec": {
   "display_name": "Python 3",
   "language": "python",
   "name": "python3"
  },
  "language_info": {
   "codemirror_mode": {
    "name": "ipython",
    "version": 3
   },
   "file_extension": ".py",
   "mimetype": "text/x-python",
   "name": "python",
   "nbconvert_exporter": "python",
   "pygments_lexer": "ipython3",
   "version": "3.7.4"
  }
 },
 "nbformat": 4,
 "nbformat_minor": 2
}
